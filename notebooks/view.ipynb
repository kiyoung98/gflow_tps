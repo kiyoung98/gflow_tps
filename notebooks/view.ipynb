{
 "cells": [
  {
   "cell_type": "code",
   "execution_count": 7,
   "id": "b06b948e-1acd-4f36-aa14-158193a81b1b",
   "metadata": {},
   "outputs": [
    {
     "data": {
      "application/vnd.jupyter.widget-view+json": {
       "model_id": "a9043bd1c2a146cb83fa48fcbcbdb2eb",
       "version_major": 2,
       "version_minor": 0
      },
      "text/plain": [
       "NGLWidget(max_frame=5000)"
      ]
     },
     "metadata": {},
     "output_type": "display_data"
    }
   ],
   "source": [
    "import mdtraj as md\n",
    "import nglview as nv\n",
    "\n",
    "# Load the trajectory from the H5 file\n",
    "traj = md.load(\"results/chignolin_off/0/molecule_0.h5\", top=\"data/chignolin/folded.pdb\")\n",
    "\n",
    "# Visualize the trajectory using NGLView\n",
    "view = nv.show_mdtraj(traj)\n",
    "view.add_representation('cartoon', selection='protein')  # You can customize the representation as needed\n",
    "view"
   ]
  },
  {
   "cell_type": "code",
   "execution_count": null,
   "id": "b0aff854-8732-4692-b343-952bd479986c",
   "metadata": {},
   "outputs": [],
   "source": []
  }
 ],
 "metadata": {
  "kernelspec": {
   "display_name": "Python 3 (ipykernel)",
   "language": "python",
   "name": "python3"
  },
  "language_info": {
   "codemirror_mode": {
    "name": "ipython",
    "version": 3
   },
   "file_extension": ".py",
   "mimetype": "text/x-python",
   "name": "python",
   "nbconvert_exporter": "python",
   "pygments_lexer": "ipython3",
   "version": "3.9.18"
  }
 },
 "nbformat": 4,
 "nbformat_minor": 5
}

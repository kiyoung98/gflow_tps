{
 "cells": [
  {
   "cell_type": "code",
   "execution_count": 1,
   "metadata": {},
   "outputs": [
    {
     "name": "stderr",
     "output_type": "stream",
     "text": [
      "Warning: importing 'simtk.openmm' is deprecated.  Import 'openmm' instead.\n"
     ]
    },
    {
     "data": {
      "application/vnd.jupyter.widget-view+json": {
       "model_id": "e1e508ee3cfd4c879ce21ea1657ebfb3",
       "version_major": 2,
       "version_minor": 0
      },
      "text/plain": []
     },
     "metadata": {},
     "output_type": "display_data"
    }
   ],
   "source": [
    "# NOTE: This job does not work well in vscode\n",
    "# PLEASE execute the ipynb file on the browser by ''jupyter notebook'', rather than in vscode.\n",
    "\n",
    "import mdtraj as md\n",
    "import nglview as nv\n",
    "import imageio\n",
    "import time\n",
    "\n",
    "from tqdm import tqdm\n",
    "from nglview.contrib.movie import MovieMaker"
   ]
  },
  {
   "cell_type": "code",
   "execution_count": 3,
   "metadata": {},
   "outputs": [],
   "source": [
    "# Configurations\n",
    "\n",
    "# project=\"alanine\"\n",
    "# molecule = \"alanine\"\n",
    "# start_state = \"c5\"\n",
    "\n",
    "project = \"poly\"\n",
    "molecule = \"poly\"\n",
    "start_state = \"pp2\"\n",
    "\n",
    "# project=\"chignolin\"\n",
    "# molecule=\"chignolin\"\n",
    "# start_state=\"unfolded\"\n",
    "\n",
    "date = \"0425-031929\"\n",
    "seed = \"7\"\n",
    "pic_num = \"0\""
   ]
  },
  {
   "cell_type": "code",
   "execution_count": 4,
   "metadata": {},
   "outputs": [
    {
     "name": "stdout",
     "output_type": "stream",
     "text": [
      "NGLWidget(max_frame=4999)\n"
     ]
    },
    {
     "data": {
      "application/vnd.jupyter.widget-view+json": {
       "model_id": "6933c4021a3848a3bae6b24f066f4703",
       "version_major": 2,
       "version_minor": 0
      },
      "text/plain": [
       "NGLWidget(max_frame=4999)"
      ]
     },
     "metadata": {},
     "output_type": "display_data"
    }
   ],
   "source": [
    "# Open the HDF5 file\n",
    "PATH_TO_FILE = f\"../results/{molecule}/{project}/{date}/eval/{seed}/\"\n",
    "FILE_NAME = \"3D_view_\" + pic_num\n",
    "FILE_FORMAT = \".h5\"\n",
    "IMAGE_SIZE = \"400px\"\n",
    "\n",
    "H5_FILE = PATH_TO_FILE + FILE_NAME + FILE_FORMAT\n",
    "MD_FILE = \"../data/\" + molecule + \"/\" + start_state + \".pdb\"\n",
    "\n",
    "traj = md.load(H5_FILE, top=MD_FILE)\n",
    "view = nv.show_mdtraj(traj, width=IMAGE_SIZE, height=IMAGE_SIZE)\n",
    "\n",
    "if molecule == \"poly\":\n",
    "    view.add_ball_and_stick('protein', aspectRatio=1.5, radius=0.3)\n",
    "    view.add_line(linewidth=12)\n",
    "elif molecule == \"chignolin\": \n",
    "    view.add_ball_and_stick('protein', aspectRatio=2, radius=0.1)\n",
    "    view.add_ribbon('protein')\n",
    "\n",
    "\n",
    "print(view)\n",
    "view"
   ]
  },
  {
   "cell_type": "code",
   "execution_count": 5,
   "metadata": {},
   "outputs": [
    {
     "data": {
      "application/vnd.jupyter.widget-view+json": {
       "model_id": "d40c7ad920244386bc23042d1df60207",
       "version_major": 2,
       "version_minor": 0
      },
      "text/plain": [
       "IntProgress(value=0, description='Rendering ...', max=124)"
      ]
     },
     "execution_count": 5,
     "metadata": {},
     "output_type": "execute_result"
    }
   ],
   "source": [
    "# NOTE: This takes some time...\n",
    "\n",
    "step = view.max_frame // 120\n",
    "\n",
    "movie = MovieMaker(\n",
    "    view = view,\n",
    "    step = step,\n",
    "    fps = 120,\n",
    "    output = f'{project}{pic_num}_seed{seed}.gif',\n",
    ")\n",
    "movie.make(movie=True, keep_data=False)"
   ]
  },
  {
   "cell_type": "code",
   "execution_count": null,
   "metadata": {},
   "outputs": [],
   "source": []
  }
 ],
 "metadata": {
  "kernelspec": {
   "display_name": "Python 3 (ipykernel)",
   "language": "python",
   "name": "python3"
  },
  "language_info": {
   "codemirror_mode": {
    "name": "ipython",
    "version": 3
   },
   "file_extension": ".py",
   "mimetype": "text/x-python",
   "name": "python",
   "nbconvert_exporter": "python",
   "pygments_lexer": "ipython3",
   "version": "3.9.19"
  }
 },
 "nbformat": 4,
 "nbformat_minor": 4
}

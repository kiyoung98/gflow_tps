{
 "cells": [
  {
   "cell_type": "code",
   "execution_count": 1,
   "metadata": {},
   "outputs": [
    {
     "name": "stderr",
     "output_type": "stream",
     "text": [
      "Warning: importing 'simtk.openmm' is deprecated.  Import 'openmm' instead.\n"
     ]
    },
    {
     "data": {
      "application/vnd.jupyter.widget-view+json": {
       "model_id": "bdfcbdc7d15e4f528dbeef7f7bf8c326",
       "version_major": 2,
       "version_minor": 0
      },
      "text/plain": []
     },
     "metadata": {},
     "output_type": "display_data"
    }
   ],
   "source": [
    "# NOTE: This job takes quite some time in vscode.\n",
    "# Please execute the ipynb file on the browser by ''jupyter notebook'', rather than in vscode.\n",
    "\n",
    "import mdtraj as md\n",
    "import nglview as nv\n",
    "import imageio\n",
    "import time\n",
    "\n",
    "from tqdm import tqdm\n",
    "from nglview.contrib.movie import MovieMaker"
   ]
  },
  {
   "cell_type": "code",
   "execution_count": 2,
   "metadata": {},
   "outputs": [],
   "source": [
    "# Configurations\n",
    "\n",
    "# molecule = \"alanine\"\n",
    "# start_state = \"c5\"\n",
    "project=\"poly_term_std_0.2\"\n",
    "molecule = \"poly\"\n",
    "start_state = \"pp1\"\n",
    "\n",
    "seed = \"3\"\n",
    "pic_num = \"0\""
   ]
  },
  {
   "cell_type": "code",
   "execution_count": 11,
   "metadata": {},
   "outputs": [
    {
     "name": "stdout",
     "output_type": "stream",
     "text": [
      "NGLWidget(max_frame=499)\n"
     ]
    },
    {
     "data": {
      "application/vnd.jupyter.widget-view+json": {
       "model_id": "e251f91fcfaf4f668bc9cffd55948a57",
       "version_major": 2,
       "version_minor": 0
      },
      "text/plain": [
       "NGLWidget(max_frame=499)"
      ]
     },
     "metadata": {},
     "output_type": "display_data"
    }
   ],
   "source": [
    "# Open the HDF5 file\n",
    "PATH_TO_FILE = f\"../results/{molecule}/{project}/eval/{seed}/\"\n",
    "FILE_NAME = \"3D_view_\" + pic_num\n",
    "FILE_FORMAT = \".h5\"\n",
    "\n",
    "H5_FILE = PATH_TO_FILE + FILE_NAME + FILE_FORMAT\n",
    "MD_FILE = \"../data/\" + molecule + \"/\" + start_state + \".pdb\"\n",
    "\n",
    "traj = md.load(H5_FILE, top=MD_FILE)\n",
    "# view = nv.show_mdtraj(traj)\n",
    "view = nv.show_mdtraj(traj, width=\"400px\", height=\"400px\")\n",
    "view.add_ball_and_stick('protein', aspectRatio=1.5, radius=0.3)\n",
    "# view.add_line(radius=0.3)\n",
    "\n",
    "print(view)\n",
    "view"
   ]
  },
  {
   "cell_type": "code",
   "execution_count": 13,
   "metadata": {},
   "outputs": [
    {
     "data": {
      "application/vnd.jupyter.widget-view+json": {
       "model_id": "494b786c5f54442f855631f9df902a68",
       "version_major": 2,
       "version_minor": 0
      },
      "text/plain": [
       "IntProgress(value=0, description='Rendering ...', max=62)"
      ]
     },
     "execution_count": 13,
     "metadata": {},
     "output_type": "execute_result"
    }
   ],
   "source": [
    "# NOTE: This takes quite long...\n",
    "movie = MovieMaker(\n",
    "    view = view,\n",
    "    step=8,\n",
    "    fps=80,\n",
    "    output=f'{project}{pic_num}_seed{seed}.gif',\n",
    ")\n",
    "movie.make(movie=True, keep_data=True)"
   ]
  },
  {
   "cell_type": "code",
   "execution_count": null,
   "metadata": {},
   "outputs": [],
   "source": []
  }
 ],
 "metadata": {
  "kernelspec": {
   "display_name": "Python 3 (ipykernel)",
   "language": "python",
   "name": "python3"
  },
  "language_info": {
   "codemirror_mode": {
    "name": "ipython",
    "version": 3
   },
   "file_extension": ".py",
   "mimetype": "text/x-python",
   "name": "python",
   "nbconvert_exporter": "python",
   "pygments_lexer": "ipython3",
   "version": "3.9.19"
  }
 },
 "nbformat": 4,
 "nbformat_minor": 4
}
